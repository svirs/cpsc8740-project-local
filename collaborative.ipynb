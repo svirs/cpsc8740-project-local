{
 "cells": [
  {
   "cell_type": "code",
   "execution_count": 13,
   "metadata": {},
   "outputs": [
    {
     "name": "stdout",
     "output_type": "stream",
     "text": [
      "No new data\n",
      "rows:  (100836, 4) Index(['userId', 'movieId', 'rating', 'timestamp'], dtype='object')\n"
     ]
    }
   ],
   "source": [
    "import sqlite3\n",
    "import pandas as pd\n",
    "\n",
    "# load dataframe\n",
    "dfs = []\n",
    "with sqlite3.connect('./db/database.db') as cnx:\n",
    "    try:\n",
    "        dfs.append(pd.read_sql_query(\"SELECT * FROM ratings\", cnx))\n",
    "    except:\n",
    "        print(\"Unable to get historical data\")\n",
    "        exit(1)\n",
    "    try:\n",
    "        dfs.append(pd.read_sql_query(\"SELECT * FROM new_ratings\", cnx))\n",
    "    except:\n",
    "        print(\"No new data\")\n",
    "\n",
    "df = pd.concat(dfs)\n",
    "print(\"rows: \", df.shape, df.columns)"
   ]
  },
  {
   "cell_type": "code",
   "execution_count": 18,
   "metadata": {},
   "outputs": [
    {
     "data": {
      "text/plain": [
       "<Axes: xlabel='rating', ylabel='count'>"
      ]
     },
     "execution_count": 18,
     "metadata": {},
     "output_type": "execute_result"
    },
    {
     "data": {
      "image/png": "[encoded data removed]",
      "text/plain": [
       "<Figure size 640x480 with 1 Axes>"
      ]
     },
     "metadata": {},
     "output_type": "display_data"
    }
   ],
   "source": [
    "import seaborn as sns\n",
    "\n",
    "rating_data = df\n",
    "\n",
    "sns.barplot(x=rating_data['rating'].value_counts().index, y=rating_data['rating'].value_counts())\n",
    "\n"
   ]
  },
  {
   "cell_type": "code",
   "execution_count": 14,
   "metadata": {},
   "outputs": [
    {
     "name": "stdout",
     "output_type": "stream",
     "text": [
      "Evaluating RMSE, MAE of algorithm SVD on 5 split(s).\n",
      "\n",
      "                  Fold 1  Fold 2  Fold 3  Fold 4  Fold 5  Mean    Std     \n",
      "RMSE (testset)    0.8791  0.8782  0.8670  0.8733  0.8754  0.8746  0.0043  \n",
      "MAE (testset)     0.6752  0.6755  0.6655  0.6701  0.6732  0.6719  0.0037  \n",
      "Fit time          0.49    0.47    0.47    0.45    0.42    0.46    0.03    \n",
      "Test time         0.05    0.05    0.04    0.04    0.04    0.04    0.00    \n"
     ]
    },
    {
     "data": {
      "text/plain": [
       "[Prediction(uid=1, iid=318, r_ui=3.501556983616962, est=4.99037768541556, details={'was_impossible': False}),\n",
       " Prediction(uid=1, iid=106782, r_ui=3.501556983616962, est=4.7823149700990095, details={'was_impossible': False}),\n",
       " Prediction(uid=1, iid=2288, r_ui=3.501556983616962, est=4.674140999235998, details={'was_impossible': False}),\n",
       " Prediction(uid=1, iid=32, r_ui=3.501556983616962, est=4.952551177777131, details={'was_impossible': False}),\n",
       " Prediction(uid=1, iid=351, r_ui=3.501556983616962, est=4.148309167382527, details={'was_impossible': False})]"
      ]
     },
     "execution_count": 14,
     "metadata": {},
     "output_type": "execute_result"
    }
   ],
   "source": [
    "from surprise import Dataset\n",
    "from surprise import Reader\n",
    "from surprise import SVD\n",
    "from surprise.model_selection import cross_validate\n",
    "\n",
    "rating_data = df\n",
    "\n",
    "reader = Reader(rating_scale=(0.5, 5))\n",
    "data = Dataset.load_from_df(rating_data[['userId', 'movieId', 'rating']], reader)\n",
    "\n",
    "# trainset, testset = train_test_split(data, test_size=.20)\n",
    "trainset = data.build_full_trainset()\n",
    "algo = SVD()\n",
    "cross_validate(algo, data, measures=['RMSE', 'MAE'], cv=5, verbose=True)\n",
    "\n",
    "algo.fit(data.build_full_trainset())\n",
    "predictions = algo.test(trainset.build_anti_testset())\n",
    "predictions[0:100:20]\n",
    "\n"
   ]
  },
  {
   "cell_type": "code",
   "execution_count": 15,
   "metadata": {},
   "outputs": [
    {
     "name": "stdout",
     "output_type": "stream",
     "text": [
      "Recommendations\n",
      "--------------------------------------------------------------------------------\n",
      "UserId 1\tmovieIds: [68157, 79132, 112552, 720, 898]\n",
      "UserId 2\tmovieIds: [904, 1204, 930, 908, 56782]\n",
      "UserId 3\tmovieIds: [1203, 5008, 1206, 7361, 912]\n",
      "UserId 4\tmovieIds: [913, 750, 148626, 858, 1276]\n",
      "UserId 5\tmovieIds: [1204, 1136, 1250, 246, 912]\n",
      "UserId 6\tmovieIds: [951, 56782, 78499, 2791, 1237]\n",
      "UserId 7\tmovieIds: [296, 1213, 1258, 1204, 115713]\n",
      "UserId 8\tmovieIds: [1221, 2160, 5618, 4226, 1178]\n",
      "UserId 9\tmovieIds: [1204, 246, 750, 1272, 260]\n",
      "UserId 10\tmovieIds: [72226, 909, 104879, 1198, 48516]\n"
     ]
    }
   ],
   "source": [
    "\n",
    "import time\n",
    "from collections import defaultdict\n",
    "\n",
    "top_n = defaultdict(list)\n",
    "for uid, iid, true_r, est, _ in predictions:\n",
    "  top_n[uid].append((iid, est))\n",
    "\n",
    "k = 5\n",
    "for uid, user_ratings in top_n.items():\n",
    "  user_ratings.sort(key=lambda x: x[1], reverse=True)\n",
    "  top_n[uid] = user_ratings[:k]\n",
    "print(\"Recommendations\")\n",
    "print(\"-\" * 80)\n",
    "for uid, user_ratings in list(top_n.items())[:10]:\n",
    "  items = [iid for (iid, _) in user_ratings]\n",
    "  print(f\"UserId {uid}\\tmovieIds: {items}\")\n",
    "\n",
    "now = int(time.time()) # seconds since epoch\n",
    "with sqlite3.connect('./db/database.db') as cnx:\n",
    "  cnx.execute(\"CREATE TABLE IF NOT EXISTS recommendations (userId INT, movieId INT, rating REAL, timestamp INT)\")\n",
    "  for idx, [uid, user_ratings] in enumerate(top_n.items()):\n",
    "    for (iid, rating) in user_ratings:\n",
    "      cnx.execute(f\"INSERT INTO recommendations (userId, movieId, rating, timestamp) VALUES ({uid}, {iid}, {rating}, {now})\")\n",
    "\n"
   ]
  },
  {
   "cell_type": "code",
   "execution_count": null,
   "metadata": {},
   "outputs": [],
   "source": []
  }
 ],
 "metadata": {
  "kernelspec": {
   "display_name": "venv",
   "language": "python",
   "name": "python3"
  },
  "language_info": {
   "codemirror_mode": {
    "name": "ipython",
    "version": 3
   },
   "file_extension": ".py",
   "mimetype": "text/x-python",
   "name": "python",
   "nbconvert_exporter": "python",
   "pygments_lexer": "ipython3",
   "version": "3.12.2"
  }
 },
 "nbformat": 4,
 "nbformat_minor": 2
}
